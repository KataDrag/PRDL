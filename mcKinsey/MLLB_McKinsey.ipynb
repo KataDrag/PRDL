{
 "cells": [
  {
   "cell_type": "markdown",
   "metadata": {
    "id": "view-in-github"
   },
   "source": [
    "<a href=\"https://colab.research.google.com/github/MasterMSTC/IPTC_DeepLearning/blob/master/IPTC_GoogleColab_Intro.ipynb\" target=\"_parent\"><img src=\"https://colab.research.google.com/assets/colab-badge.svg\" alt=\"Open In Colab\"/></a>"
   ]
  },
  {
   "cell_type": "markdown",
   "metadata": {
    "id": "bxUqv_bSWs2m"
   },
   "source": [
    "# McKinsey Semminar - UPM\n"
   ]
  },
  {
   "cell_type": "markdown",
   "metadata": {
    "id": "AdOTkYvXjQj8"
   },
   "source": []
  },
  {
   "cell_type": "markdown",
   "metadata": {
    "id": "hCRY_oJn3lFx"
   },
   "source": [
    "\n",
    "* # Import files from your local system (your laptop...)\n",
    "\n"
   ]
  },
  {
   "cell_type": "code",
   "execution_count": null,
   "metadata": {
    "id": "6yjefmSQWDGH"
   },
   "outputs": [],
   "source": [
    "from google.colab import files\n",
    "\n",
    "uploaded = files.upload()\n",
    "\n",
    "for fn in uploaded.keys():\n",
    "  print('User uploaded file \"{name}\" with length {length} bytes'.format(\n",
    "      name=fn, length=len(uploaded[fn])))"
   ]
  },
  {
   "cell_type": "markdown",
   "metadata": {
    "id": "LM2u2xFA42Nq"
   },
   "source": [
    "## Where is the uploaded file?"
   ]
  },
  {
   "cell_type": "code",
   "execution_count": null,
   "metadata": {
    "id": "2e0r-nYO4zu7"
   },
   "outputs": [],
   "source": [
    "ls"
   ]
  },
  {
   "cell_type": "code",
   "execution_count": null,
   "metadata": {
    "id": "qKPH8R-RPQ6y"
   },
   "outputs": [],
   "source": [
    "!unrar x -Y bankingchurn_data_modif.rar"
   ]
  },
  {
   "cell_type": "code",
   "execution_count": null,
   "metadata": {
    "id": "snY_Dck8PrCj"
   },
   "outputs": [],
   "source": [
    "ls"
   ]
  },
  {
   "cell_type": "code",
   "execution_count": 4,
   "metadata": {
    "id": "p4SBlCyc49Ec"
   },
   "outputs": [
    {
     "name": "stderr",
     "output_type": "stream",
     "text": [
      "C:\\Users\\luisa\\AppData\\Local\\Temp\\ipykernel_27804\\1504021525.py:7: DtypeWarning: Columns (6) have mixed types. Specify dtype option on import or set low_memory=False.\n",
      "  data = pd.read_csv(\"bankingchurn_data_modif.csv\",sep=';',decimal=\",\")\n"
     ]
    }
   ],
   "source": [
    "# Import pandas\n",
    "import pandas as pd\n",
    "\n",
    "# Read Churn Data\n",
    "# McK_df = pd.read_csv(\"bankingchurn_data_modif.csv\",sep=';',na_values=['-1'])\n",
    "\n",
    "data = pd.read_csv(\"bankingchurn_data_modif.csv\",sep=';',decimal=\",\")"
   ]
  },
  {
   "cell_type": "code",
   "execution_count": 5,
   "metadata": {
    "id": "L5vb2y6rPwJ6"
   },
   "outputs": [
    {
     "data": {
      "text/html": [
       "<div>\n",
       "<style scoped>\n",
       "    .dataframe tbody tr th:only-of-type {\n",
       "        vertical-align: middle;\n",
       "    }\n",
       "\n",
       "    .dataframe tbody tr th {\n",
       "        vertical-align: top;\n",
       "    }\n",
       "\n",
       "    .dataframe thead th {\n",
       "        text-align: right;\n",
       "    }\n",
       "</style>\n",
       "<table border=\"1\" class=\"dataframe\">\n",
       "  <thead>\n",
       "    <tr style=\"text-align: right;\">\n",
       "      <th></th>\n",
       "      <th>contract_start</th>\n",
       "      <th>contract_end</th>\n",
       "      <th>date_of_birth</th>\n",
       "      <th>gender</th>\n",
       "      <th>profession</th>\n",
       "      <th>size_household</th>\n",
       "      <th>ZIP</th>\n",
       "      <th>segment</th>\n",
       "      <th>credit_rating</th>\n",
       "      <th>no_credit_rating_flag</th>\n",
       "      <th>...</th>\n",
       "      <th>online_number_of_logins_per_month</th>\n",
       "      <th>online_tranactions_per_month</th>\n",
       "      <th>advisor_contacts_last12months</th>\n",
       "      <th>customer_limit</th>\n",
       "      <th>cash_withdraws_per_month</th>\n",
       "      <th>cash_withdrawals_value</th>\n",
       "      <th>consumer_credit_value</th>\n",
       "      <th>consumer_credit_maturity</th>\n",
       "      <th>account_fee</th>\n",
       "      <th>number_of_refusals</th>\n",
       "    </tr>\n",
       "  </thead>\n",
       "  <tbody>\n",
       "    <tr>\n",
       "      <th>0</th>\n",
       "      <td>2010-10-24</td>\n",
       "      <td>NaN</td>\n",
       "      <td>1991-02-11</td>\n",
       "      <td>M</td>\n",
       "      <td>Professional Services</td>\n",
       "      <td>1</td>\n",
       "      <td>76829</td>\n",
       "      <td>S2</td>\n",
       "      <td>89.568518</td>\n",
       "      <td>0</td>\n",
       "      <td>...</td>\n",
       "      <td>0</td>\n",
       "      <td>0</td>\n",
       "      <td>3</td>\n",
       "      <td>1000.0</td>\n",
       "      <td>4</td>\n",
       "      <td>459.840940</td>\n",
       "      <td>-24011.393552</td>\n",
       "      <td>205</td>\n",
       "      <td>15</td>\n",
       "      <td>6</td>\n",
       "    </tr>\n",
       "    <tr>\n",
       "      <th>1</th>\n",
       "      <td>2010-04-30</td>\n",
       "      <td>2017-10-20</td>\n",
       "      <td>1986-04-06</td>\n",
       "      <td>W</td>\n",
       "      <td>NaN</td>\n",
       "      <td>1</td>\n",
       "      <td>35104</td>\n",
       "      <td>S2</td>\n",
       "      <td>94.270507</td>\n",
       "      <td>0</td>\n",
       "      <td>...</td>\n",
       "      <td>16</td>\n",
       "      <td>8</td>\n",
       "      <td>2</td>\n",
       "      <td>1000.0</td>\n",
       "      <td>7</td>\n",
       "      <td>476.334459</td>\n",
       "      <td>-5368.743068</td>\n",
       "      <td>137</td>\n",
       "      <td>15</td>\n",
       "      <td>6</td>\n",
       "    </tr>\n",
       "    <tr>\n",
       "      <th>2</th>\n",
       "      <td>2013-05-02</td>\n",
       "      <td>NaN</td>\n",
       "      <td>1993-04-18</td>\n",
       "      <td>M</td>\n",
       "      <td>Transportation</td>\n",
       "      <td>1</td>\n",
       "      <td>63450</td>\n",
       "      <td>S2</td>\n",
       "      <td>93.030947</td>\n",
       "      <td>0</td>\n",
       "      <td>...</td>\n",
       "      <td>26</td>\n",
       "      <td>12</td>\n",
       "      <td>2</td>\n",
       "      <td>1000.0</td>\n",
       "      <td>3</td>\n",
       "      <td>332.640202</td>\n",
       "      <td>-9678.713419</td>\n",
       "      <td>624</td>\n",
       "      <td>15</td>\n",
       "      <td>4</td>\n",
       "    </tr>\n",
       "    <tr>\n",
       "      <th>3</th>\n",
       "      <td>2016-12-24</td>\n",
       "      <td>NaN</td>\n",
       "      <td>1994-07-29</td>\n",
       "      <td>W</td>\n",
       "      <td>Professional Services</td>\n",
       "      <td>2</td>\n",
       "      <td>9573</td>\n",
       "      <td>S3</td>\n",
       "      <td>NaN</td>\n",
       "      <td>1</td>\n",
       "      <td>...</td>\n",
       "      <td>0</td>\n",
       "      <td>0</td>\n",
       "      <td>4</td>\n",
       "      <td>1050.0</td>\n",
       "      <td>4</td>\n",
       "      <td>378.324744</td>\n",
       "      <td>-12110.305916</td>\n",
       "      <td>1263</td>\n",
       "      <td>10</td>\n",
       "      <td>7</td>\n",
       "    </tr>\n",
       "    <tr>\n",
       "      <th>4</th>\n",
       "      <td>2011-10-01</td>\n",
       "      <td>NaN</td>\n",
       "      <td>1990-10-28</td>\n",
       "      <td>W</td>\n",
       "      <td>Research</td>\n",
       "      <td>1</td>\n",
       "      <td>66916</td>\n",
       "      <td>S2</td>\n",
       "      <td>90.457664</td>\n",
       "      <td>0</td>\n",
       "      <td>...</td>\n",
       "      <td>23</td>\n",
       "      <td>18</td>\n",
       "      <td>3</td>\n",
       "      <td>1000.0</td>\n",
       "      <td>4</td>\n",
       "      <td>471.509299</td>\n",
       "      <td>0.000000</td>\n",
       "      <td>521</td>\n",
       "      <td>10</td>\n",
       "      <td>3</td>\n",
       "    </tr>\n",
       "    <tr>\n",
       "      <th>5</th>\n",
       "      <td>2004-09-24</td>\n",
       "      <td>NaN</td>\n",
       "      <td>1987-11-18</td>\n",
       "      <td>M</td>\n",
       "      <td>Real Estate</td>\n",
       "      <td>1</td>\n",
       "      <td>14728</td>\n",
       "      <td>S2</td>\n",
       "      <td>NaN</td>\n",
       "      <td>1</td>\n",
       "      <td>...</td>\n",
       "      <td>34</td>\n",
       "      <td>22</td>\n",
       "      <td>4</td>\n",
       "      <td>1000.0</td>\n",
       "      <td>3</td>\n",
       "      <td>478.179202</td>\n",
       "      <td>0.000000</td>\n",
       "      <td>0</td>\n",
       "      <td>0</td>\n",
       "      <td>10</td>\n",
       "    </tr>\n",
       "    <tr>\n",
       "      <th>6</th>\n",
       "      <td>2015-12-20</td>\n",
       "      <td>NaN</td>\n",
       "      <td>1992-06-30</td>\n",
       "      <td>M</td>\n",
       "      <td>Engineering</td>\n",
       "      <td>2</td>\n",
       "      <td>95666</td>\n",
       "      <td>S2</td>\n",
       "      <td>NaN</td>\n",
       "      <td>1</td>\n",
       "      <td>...</td>\n",
       "      <td>19</td>\n",
       "      <td>10</td>\n",
       "      <td>4</td>\n",
       "      <td>1850.0</td>\n",
       "      <td>4</td>\n",
       "      <td>588.621471</td>\n",
       "      <td>0.000000</td>\n",
       "      <td>1498</td>\n",
       "      <td>15</td>\n",
       "      <td>0</td>\n",
       "    </tr>\n",
       "    <tr>\n",
       "      <th>7</th>\n",
       "      <td>2016-07-15</td>\n",
       "      <td>NaN</td>\n",
       "      <td>1995-07-20</td>\n",
       "      <td>W</td>\n",
       "      <td>NaN</td>\n",
       "      <td>2</td>\n",
       "      <td>67819</td>\n",
       "      <td>S3</td>\n",
       "      <td>NaN</td>\n",
       "      <td>1</td>\n",
       "      <td>...</td>\n",
       "      <td>6</td>\n",
       "      <td>1</td>\n",
       "      <td>0</td>\n",
       "      <td>1600.0</td>\n",
       "      <td>4</td>\n",
       "      <td>635.546935</td>\n",
       "      <td>0.000000</td>\n",
       "      <td>686</td>\n",
       "      <td>20</td>\n",
       "      <td>5</td>\n",
       "    </tr>\n",
       "    <tr>\n",
       "      <th>8</th>\n",
       "      <td>2004-04-17</td>\n",
       "      <td>NaN</td>\n",
       "      <td>1984-03-11</td>\n",
       "      <td>M</td>\n",
       "      <td>Maint</td>\n",
       "      <td>2</td>\n",
       "      <td>73113</td>\n",
       "      <td>S2</td>\n",
       "      <td>96.614939</td>\n",
       "      <td>0</td>\n",
       "      <td>...</td>\n",
       "      <td>13</td>\n",
       "      <td>8</td>\n",
       "      <td>2</td>\n",
       "      <td>2650.0</td>\n",
       "      <td>5</td>\n",
       "      <td>484.351736</td>\n",
       "      <td>-4880.287513</td>\n",
       "      <td>133</td>\n",
       "      <td>20</td>\n",
       "      <td>5</td>\n",
       "    </tr>\n",
       "    <tr>\n",
       "      <th>9</th>\n",
       "      <td>2015-06-18</td>\n",
       "      <td>NaN</td>\n",
       "      <td>1984-03-18</td>\n",
       "      <td>M</td>\n",
       "      <td>Consultant</td>\n",
       "      <td>1</td>\n",
       "      <td>31717</td>\n",
       "      <td>S2</td>\n",
       "      <td>92.023242</td>\n",
       "      <td>0</td>\n",
       "      <td>...</td>\n",
       "      <td>0</td>\n",
       "      <td>0</td>\n",
       "      <td>3</td>\n",
       "      <td>1000.0</td>\n",
       "      <td>4</td>\n",
       "      <td>49.569835</td>\n",
       "      <td>-19610.275365</td>\n",
       "      <td>58</td>\n",
       "      <td>0</td>\n",
       "      <td>7</td>\n",
       "    </tr>\n",
       "  </tbody>\n",
       "</table>\n",
       "<p>10 rows × 44 columns</p>\n",
       "</div>"
      ],
      "text/plain": [
       "  contract_start contract_end date_of_birth gender             profession  \\\n",
       "0     2010-10-24          NaN    1991-02-11      M  Professional Services   \n",
       "1     2010-04-30   2017-10-20    1986-04-06      W                    NaN   \n",
       "2     2013-05-02          NaN    1993-04-18      M         Transportation   \n",
       "3     2016-12-24          NaN    1994-07-29      W  Professional Services   \n",
       "4     2011-10-01          NaN    1990-10-28      W               Research   \n",
       "5     2004-09-24          NaN    1987-11-18      M            Real Estate   \n",
       "6     2015-12-20          NaN    1992-06-30      M            Engineering   \n",
       "7     2016-07-15          NaN    1995-07-20      W                    NaN   \n",
       "8     2004-04-17          NaN    1984-03-11      M                  Maint   \n",
       "9     2015-06-18          NaN    1984-03-18      M             Consultant   \n",
       "\n",
       "   size_household    ZIP segment  credit_rating  no_credit_rating_flag  ...  \\\n",
       "0               1  76829      S2      89.568518                      0  ...   \n",
       "1               1  35104      S2      94.270507                      0  ...   \n",
       "2               1  63450      S2      93.030947                      0  ...   \n",
       "3               2   9573      S3            NaN                      1  ...   \n",
       "4               1  66916      S2      90.457664                      0  ...   \n",
       "5               1  14728      S2            NaN                      1  ...   \n",
       "6               2  95666      S2            NaN                      1  ...   \n",
       "7               2  67819      S3            NaN                      1  ...   \n",
       "8               2  73113      S2      96.614939                      0  ...   \n",
       "9               1  31717      S2      92.023242                      0  ...   \n",
       "\n",
       "   online_number_of_logins_per_month  online_tranactions_per_month  \\\n",
       "0                                  0                             0   \n",
       "1                                 16                             8   \n",
       "2                                 26                            12   \n",
       "3                                  0                             0   \n",
       "4                                 23                            18   \n",
       "5                                 34                            22   \n",
       "6                                 19                            10   \n",
       "7                                  6                             1   \n",
       "8                                 13                             8   \n",
       "9                                  0                             0   \n",
       "\n",
       "   advisor_contacts_last12months  customer_limit  cash_withdraws_per_month  \\\n",
       "0                              3          1000.0                         4   \n",
       "1                              2          1000.0                         7   \n",
       "2                              2          1000.0                         3   \n",
       "3                              4          1050.0                         4   \n",
       "4                              3          1000.0                         4   \n",
       "5                              4          1000.0                         3   \n",
       "6                              4          1850.0                         4   \n",
       "7                              0          1600.0                         4   \n",
       "8                              2          2650.0                         5   \n",
       "9                              3          1000.0                         4   \n",
       "\n",
       "   cash_withdrawals_value  consumer_credit_value  consumer_credit_maturity  \\\n",
       "0              459.840940          -24011.393552                       205   \n",
       "1              476.334459           -5368.743068                       137   \n",
       "2              332.640202           -9678.713419                       624   \n",
       "3              378.324744          -12110.305916                      1263   \n",
       "4              471.509299               0.000000                       521   \n",
       "5              478.179202               0.000000                         0   \n",
       "6              588.621471               0.000000                      1498   \n",
       "7              635.546935               0.000000                       686   \n",
       "8              484.351736           -4880.287513                       133   \n",
       "9               49.569835          -19610.275365                        58   \n",
       "\n",
       "   account_fee  number_of_refusals  \n",
       "0           15                   6  \n",
       "1           15                   6  \n",
       "2           15                   4  \n",
       "3           10                   7  \n",
       "4           10                   3  \n",
       "5            0                  10  \n",
       "6           15                   0  \n",
       "7           20                   5  \n",
       "8           20                   5  \n",
       "9            0                   7  \n",
       "\n",
       "[10 rows x 44 columns]"
      ]
     },
     "execution_count": 5,
     "metadata": {},
     "output_type": "execute_result"
    }
   ],
   "source": [
    "data.head(10)"
   ]
  },
  {
   "cell_type": "code",
   "execution_count": 6,
   "metadata": {
    "id": "QAjkHMfAdsuf"
   },
   "outputs": [
    {
     "data": {
      "text/plain": [
       "Index(['contract_start', 'contract_end', 'date_of_birth', 'gender',\n",
       "       'profession', 'size_household', 'ZIP', 'segment', 'credit_rating',\n",
       "       'no_credit_rating_flag', 'main_account_flag', 'online_banking_flag',\n",
       "       'tele_banking_flag', 'creditcard_flag', 'insurance_life_flag',\n",
       "       'insurance_house_flag', 'insurance_car_flag', 'insurance_other_flag',\n",
       "       'mortgage_flag', 'portfolio_flag', 'last_balance',\n",
       "       'last_balance_minus_6_months', 'last_balance_minus_12_months',\n",
       "       'income_salary_per_year', 'income_deposits_per_year',\n",
       "       'income_securities_per_year', 'insurance_life_premium_per_month',\n",
       "       'insurance_house_premium_per_year', 'insurance_car_premium_per_year',\n",
       "       'mortgage_value', 'mortgage_interest', 'mortgage_downpayment',\n",
       "       'mortgage_dayuntilmaturity', 'mortgage_numbers',\n",
       "       'online_number_of_logins_per_month', 'online_tranactions_per_month',\n",
       "       'advisor_contacts_last12months', 'customer_limit',\n",
       "       'cash_withdraws_per_month', 'cash_withdrawals_value',\n",
       "       'consumer_credit_value', 'consumer_credit_maturity', 'account_fee',\n",
       "       'number_of_refusals'],\n",
       "      dtype='object')"
      ]
     },
     "execution_count": 6,
     "metadata": {},
     "output_type": "execute_result"
    }
   ],
   "source": [
    "data.columns"
   ]
  },
  {
   "cell_type": "code",
   "execution_count": 7,
   "metadata": {
    "id": "nzY3obuvjmQF"
   },
   "outputs": [
    {
     "data": {
      "text/plain": [
       "0         0\n",
       "1        16\n",
       "2        26\n",
       "3         0\n",
       "4        23\n",
       "         ..\n",
       "99995     0\n",
       "99996     0\n",
       "99997     3\n",
       "99998    31\n",
       "99999    19\n",
       "Name: online_number_of_logins_per_month, Length: 100000, dtype: int64"
      ]
     },
     "execution_count": 7,
     "metadata": {},
     "output_type": "execute_result"
    }
   ],
   "source": [
    "data['online_number_of_logins_per_month']"
   ]
  },
  {
   "cell_type": "code",
   "execution_count": 8,
   "metadata": {
    "id": "RjE7UGPh7I30"
   },
   "outputs": [
    {
     "data": {
      "text/plain": [
       "contract_start                        object\n",
       "contract_end                          object\n",
       "date_of_birth                         object\n",
       "gender                                object\n",
       "profession                            object\n",
       "size_household                         int64\n",
       "ZIP                                   object\n",
       "segment                               object\n",
       "credit_rating                        float64\n",
       "no_credit_rating_flag                  int64\n",
       "main_account_flag                      int64\n",
       "online_banking_flag                    int64\n",
       "tele_banking_flag                      int64\n",
       "creditcard_flag                        int64\n",
       "insurance_life_flag                    int64\n",
       "insurance_house_flag                   int64\n",
       "insurance_car_flag                     int64\n",
       "insurance_other_flag                   int64\n",
       "mortgage_flag                          int64\n",
       "portfolio_flag                         int64\n",
       "last_balance                         float64\n",
       "last_balance_minus_6_months          float64\n",
       "last_balance_minus_12_months         float64\n",
       "income_salary_per_year               float64\n",
       "income_deposits_per_year             float64\n",
       "income_securities_per_year           float64\n",
       "insurance_life_premium_per_month     float64\n",
       "insurance_house_premium_per_year     float64\n",
       "insurance_car_premium_per_year       float64\n",
       "mortgage_value                       float64\n",
       "mortgage_interest                    float64\n",
       "mortgage_downpayment                 float64\n",
       "mortgage_dayuntilmaturity              int64\n",
       "mortgage_numbers                       int64\n",
       "online_number_of_logins_per_month      int64\n",
       "online_tranactions_per_month           int64\n",
       "advisor_contacts_last12months          int64\n",
       "customer_limit                       float64\n",
       "cash_withdraws_per_month               int64\n",
       "cash_withdrawals_value               float64\n",
       "consumer_credit_value                float64\n",
       "consumer_credit_maturity               int64\n",
       "account_fee                            int64\n",
       "number_of_refusals                     int64\n",
       "dtype: object"
      ]
     },
     "execution_count": 8,
     "metadata": {},
     "output_type": "execute_result"
    }
   ],
   "source": [
    "data.dtypes"
   ]
  },
  {
   "cell_type": "code",
   "execution_count": 9,
   "metadata": {
    "id": "bVggCf0o6jfx"
   },
   "outputs": [],
   "source": [
    "data['contract_start'] = pd.to_datetime(data['contract_start'])\n",
    "data['contract_end'] = pd.to_datetime(data['contract_end'])\n",
    "data['date_of_birth'] = pd.to_datetime(data['date_of_birth'])"
   ]
  },
  {
   "cell_type": "code",
   "execution_count": 10,
   "metadata": {
    "id": "gwGV_TiDFGPU"
   },
   "outputs": [
    {
     "data": {
      "text/plain": [
       "contract_start                       datetime64[ns]\n",
       "contract_end                         datetime64[ns]\n",
       "date_of_birth                        datetime64[ns]\n",
       "gender                                       object\n",
       "profession                                   object\n",
       "size_household                                int64\n",
       "ZIP                                          object\n",
       "segment                                      object\n",
       "credit_rating                               float64\n",
       "no_credit_rating_flag                         int64\n",
       "main_account_flag                             int64\n",
       "online_banking_flag                           int64\n",
       "tele_banking_flag                             int64\n",
       "creditcard_flag                               int64\n",
       "insurance_life_flag                           int64\n",
       "insurance_house_flag                          int64\n",
       "insurance_car_flag                            int64\n",
       "insurance_other_flag                          int64\n",
       "mortgage_flag                                 int64\n",
       "portfolio_flag                                int64\n",
       "last_balance                                float64\n",
       "last_balance_minus_6_months                 float64\n",
       "last_balance_minus_12_months                float64\n",
       "income_salary_per_year                      float64\n",
       "income_deposits_per_year                    float64\n",
       "income_securities_per_year                  float64\n",
       "insurance_life_premium_per_month            float64\n",
       "insurance_house_premium_per_year            float64\n",
       "insurance_car_premium_per_year              float64\n",
       "mortgage_value                              float64\n",
       "mortgage_interest                           float64\n",
       "mortgage_downpayment                        float64\n",
       "mortgage_dayuntilmaturity                     int64\n",
       "mortgage_numbers                              int64\n",
       "online_number_of_logins_per_month             int64\n",
       "online_tranactions_per_month                  int64\n",
       "advisor_contacts_last12months                 int64\n",
       "customer_limit                              float64\n",
       "cash_withdraws_per_month                      int64\n",
       "cash_withdrawals_value                      float64\n",
       "consumer_credit_value                       float64\n",
       "consumer_credit_maturity                      int64\n",
       "account_fee                                   int64\n",
       "number_of_refusals                            int64\n",
       "dtype: object"
      ]
     },
     "execution_count": 10,
     "metadata": {},
     "output_type": "execute_result"
    }
   ],
   "source": [
    "data.dtypes"
   ]
  },
  {
   "cell_type": "code",
   "execution_count": 11,
   "metadata": {
    "id": "i4wi051oFX_k"
   },
   "outputs": [
    {
     "data": {
      "text/plain": [
       "0           NaT\n",
       "1    2017-10-20\n",
       "2           NaT\n",
       "3           NaT\n",
       "4           NaT\n",
       "5           NaT\n",
       "6           NaT\n",
       "7           NaT\n",
       "8           NaT\n",
       "9           NaT\n",
       "10          NaT\n",
       "11   2017-06-29\n",
       "12          NaT\n",
       "13          NaT\n",
       "14          NaT\n",
       "15          NaT\n",
       "16          NaT\n",
       "17          NaT\n",
       "18          NaT\n",
       "19          NaT\n",
       "Name: contract_end, dtype: datetime64[ns]"
      ]
     },
     "execution_count": 11,
     "metadata": {},
     "output_type": "execute_result"
    }
   ],
   "source": [
    "data['contract_end'][0:20]"
   ]
  },
  {
   "cell_type": "code",
   "execution_count": 12,
   "metadata": {
    "id": "xOq-64DaEQyR"
   },
   "outputs": [
    {
     "data": {
      "text/plain": [
       "0     False\n",
       "1      True\n",
       "2     False\n",
       "3     False\n",
       "4     False\n",
       "5     False\n",
       "6     False\n",
       "7     False\n",
       "8     False\n",
       "9     False\n",
       "10    False\n",
       "11     True\n",
       "12    False\n",
       "13    False\n",
       "14    False\n",
       "15    False\n",
       "16    False\n",
       "17    False\n",
       "18    False\n",
       "19    False\n",
       "Name: contract_end, dtype: bool"
      ]
     },
     "execution_count": 12,
     "metadata": {},
     "output_type": "execute_result"
    }
   ],
   "source": [
    "data['contract_end'][0:20] < \"2021-09-11\""
   ]
  },
  {
   "cell_type": "code",
   "execution_count": 13,
   "metadata": {
    "id": "ZVKym6mOSdEX"
   },
   "outputs": [],
   "source": [
    "data['churn'] = (data['contract_end'] < \"2021-09-15\").astype(int)"
   ]
  },
  {
   "cell_type": "code",
   "execution_count": 14,
   "metadata": {
    "id": "wEnlpbhaeIPi"
   },
   "outputs": [
    {
     "data": {
      "text/html": [
       "<div>\n",
       "<style scoped>\n",
       "    .dataframe tbody tr th:only-of-type {\n",
       "        vertical-align: middle;\n",
       "    }\n",
       "\n",
       "    .dataframe tbody tr th {\n",
       "        vertical-align: top;\n",
       "    }\n",
       "\n",
       "    .dataframe thead th {\n",
       "        text-align: right;\n",
       "    }\n",
       "</style>\n",
       "<table border=\"1\" class=\"dataframe\">\n",
       "  <thead>\n",
       "    <tr style=\"text-align: right;\">\n",
       "      <th></th>\n",
       "      <th>counts</th>\n",
       "      <th>freqs</th>\n",
       "    </tr>\n",
       "    <tr>\n",
       "      <th>categories</th>\n",
       "      <th></th>\n",
       "      <th></th>\n",
       "    </tr>\n",
       "  </thead>\n",
       "  <tbody>\n",
       "    <tr>\n",
       "      <th>0</th>\n",
       "      <td>95129</td>\n",
       "      <td>0.95129</td>\n",
       "    </tr>\n",
       "    <tr>\n",
       "      <th>1</th>\n",
       "      <td>4871</td>\n",
       "      <td>0.04871</td>\n",
       "    </tr>\n",
       "  </tbody>\n",
       "</table>\n",
       "</div>"
      ],
      "text/plain": [
       "            counts    freqs\n",
       "categories                 \n",
       "0            95129  0.95129\n",
       "1             4871  0.04871"
      ]
     },
     "execution_count": 14,
     "metadata": {},
     "output_type": "execute_result"
    }
   ],
   "source": [
    "pd.Categorical(data['churn']).describe()"
   ]
  },
  {
   "cell_type": "code",
   "execution_count": 15,
   "metadata": {
    "id": "yS0lOU1Ak4kb"
   },
   "outputs": [
    {
     "data": {
      "text/html": [
       "<div>\n",
       "<style scoped>\n",
       "    .dataframe tbody tr th:only-of-type {\n",
       "        vertical-align: middle;\n",
       "    }\n",
       "\n",
       "    .dataframe tbody tr th {\n",
       "        vertical-align: top;\n",
       "    }\n",
       "\n",
       "    .dataframe thead th {\n",
       "        text-align: right;\n",
       "    }\n",
       "</style>\n",
       "<table border=\"1\" class=\"dataframe\">\n",
       "  <thead>\n",
       "    <tr style=\"text-align: right;\">\n",
       "      <th></th>\n",
       "      <th>contract_start</th>\n",
       "      <th>contract_end</th>\n",
       "      <th>date_of_birth</th>\n",
       "      <th>gender</th>\n",
       "      <th>profession</th>\n",
       "      <th>size_household</th>\n",
       "      <th>ZIP</th>\n",
       "      <th>segment</th>\n",
       "      <th>credit_rating</th>\n",
       "      <th>no_credit_rating_flag</th>\n",
       "      <th>...</th>\n",
       "      <th>online_tranactions_per_month</th>\n",
       "      <th>advisor_contacts_last12months</th>\n",
       "      <th>customer_limit</th>\n",
       "      <th>cash_withdraws_per_month</th>\n",
       "      <th>cash_withdrawals_value</th>\n",
       "      <th>consumer_credit_value</th>\n",
       "      <th>consumer_credit_maturity</th>\n",
       "      <th>account_fee</th>\n",
       "      <th>number_of_refusals</th>\n",
       "      <th>churn</th>\n",
       "    </tr>\n",
       "  </thead>\n",
       "  <tbody>\n",
       "    <tr>\n",
       "      <th>0</th>\n",
       "      <td>2010-10-24</td>\n",
       "      <td>NaT</td>\n",
       "      <td>1991-02-11</td>\n",
       "      <td>M</td>\n",
       "      <td>Professional Services</td>\n",
       "      <td>1</td>\n",
       "      <td>76829</td>\n",
       "      <td>S2</td>\n",
       "      <td>89.568518</td>\n",
       "      <td>0</td>\n",
       "      <td>...</td>\n",
       "      <td>0</td>\n",
       "      <td>3</td>\n",
       "      <td>1000.0</td>\n",
       "      <td>4</td>\n",
       "      <td>459.840940</td>\n",
       "      <td>-24011.393552</td>\n",
       "      <td>205</td>\n",
       "      <td>15</td>\n",
       "      <td>6</td>\n",
       "      <td>0</td>\n",
       "    </tr>\n",
       "    <tr>\n",
       "      <th>1</th>\n",
       "      <td>2010-04-30</td>\n",
       "      <td>2017-10-20</td>\n",
       "      <td>1986-04-06</td>\n",
       "      <td>W</td>\n",
       "      <td>NaN</td>\n",
       "      <td>1</td>\n",
       "      <td>35104</td>\n",
       "      <td>S2</td>\n",
       "      <td>94.270507</td>\n",
       "      <td>0</td>\n",
       "      <td>...</td>\n",
       "      <td>8</td>\n",
       "      <td>2</td>\n",
       "      <td>1000.0</td>\n",
       "      <td>7</td>\n",
       "      <td>476.334459</td>\n",
       "      <td>-5368.743068</td>\n",
       "      <td>137</td>\n",
       "      <td>15</td>\n",
       "      <td>6</td>\n",
       "      <td>1</td>\n",
       "    </tr>\n",
       "    <tr>\n",
       "      <th>2</th>\n",
       "      <td>2013-05-02</td>\n",
       "      <td>NaT</td>\n",
       "      <td>1993-04-18</td>\n",
       "      <td>M</td>\n",
       "      <td>Transportation</td>\n",
       "      <td>1</td>\n",
       "      <td>63450</td>\n",
       "      <td>S2</td>\n",
       "      <td>93.030947</td>\n",
       "      <td>0</td>\n",
       "      <td>...</td>\n",
       "      <td>12</td>\n",
       "      <td>2</td>\n",
       "      <td>1000.0</td>\n",
       "      <td>3</td>\n",
       "      <td>332.640202</td>\n",
       "      <td>-9678.713419</td>\n",
       "      <td>624</td>\n",
       "      <td>15</td>\n",
       "      <td>4</td>\n",
       "      <td>0</td>\n",
       "    </tr>\n",
       "    <tr>\n",
       "      <th>3</th>\n",
       "      <td>2016-12-24</td>\n",
       "      <td>NaT</td>\n",
       "      <td>1994-07-29</td>\n",
       "      <td>W</td>\n",
       "      <td>Professional Services</td>\n",
       "      <td>2</td>\n",
       "      <td>9573</td>\n",
       "      <td>S3</td>\n",
       "      <td>NaN</td>\n",
       "      <td>1</td>\n",
       "      <td>...</td>\n",
       "      <td>0</td>\n",
       "      <td>4</td>\n",
       "      <td>1050.0</td>\n",
       "      <td>4</td>\n",
       "      <td>378.324744</td>\n",
       "      <td>-12110.305916</td>\n",
       "      <td>1263</td>\n",
       "      <td>10</td>\n",
       "      <td>7</td>\n",
       "      <td>0</td>\n",
       "    </tr>\n",
       "    <tr>\n",
       "      <th>4</th>\n",
       "      <td>2011-10-01</td>\n",
       "      <td>NaT</td>\n",
       "      <td>1990-10-28</td>\n",
       "      <td>W</td>\n",
       "      <td>Research</td>\n",
       "      <td>1</td>\n",
       "      <td>66916</td>\n",
       "      <td>S2</td>\n",
       "      <td>90.457664</td>\n",
       "      <td>0</td>\n",
       "      <td>...</td>\n",
       "      <td>18</td>\n",
       "      <td>3</td>\n",
       "      <td>1000.0</td>\n",
       "      <td>4</td>\n",
       "      <td>471.509299</td>\n",
       "      <td>0.000000</td>\n",
       "      <td>521</td>\n",
       "      <td>10</td>\n",
       "      <td>3</td>\n",
       "      <td>0</td>\n",
       "    </tr>\n",
       "    <tr>\n",
       "      <th>5</th>\n",
       "      <td>2004-09-24</td>\n",
       "      <td>NaT</td>\n",
       "      <td>1987-11-18</td>\n",
       "      <td>M</td>\n",
       "      <td>Real Estate</td>\n",
       "      <td>1</td>\n",
       "      <td>14728</td>\n",
       "      <td>S2</td>\n",
       "      <td>NaN</td>\n",
       "      <td>1</td>\n",
       "      <td>...</td>\n",
       "      <td>22</td>\n",
       "      <td>4</td>\n",
       "      <td>1000.0</td>\n",
       "      <td>3</td>\n",
       "      <td>478.179202</td>\n",
       "      <td>0.000000</td>\n",
       "      <td>0</td>\n",
       "      <td>0</td>\n",
       "      <td>10</td>\n",
       "      <td>0</td>\n",
       "    </tr>\n",
       "    <tr>\n",
       "      <th>6</th>\n",
       "      <td>2015-12-20</td>\n",
       "      <td>NaT</td>\n",
       "      <td>1992-06-30</td>\n",
       "      <td>M</td>\n",
       "      <td>Engineering</td>\n",
       "      <td>2</td>\n",
       "      <td>95666</td>\n",
       "      <td>S2</td>\n",
       "      <td>NaN</td>\n",
       "      <td>1</td>\n",
       "      <td>...</td>\n",
       "      <td>10</td>\n",
       "      <td>4</td>\n",
       "      <td>1850.0</td>\n",
       "      <td>4</td>\n",
       "      <td>588.621471</td>\n",
       "      <td>0.000000</td>\n",
       "      <td>1498</td>\n",
       "      <td>15</td>\n",
       "      <td>0</td>\n",
       "      <td>0</td>\n",
       "    </tr>\n",
       "    <tr>\n",
       "      <th>7</th>\n",
       "      <td>2016-07-15</td>\n",
       "      <td>NaT</td>\n",
       "      <td>1995-07-20</td>\n",
       "      <td>W</td>\n",
       "      <td>NaN</td>\n",
       "      <td>2</td>\n",
       "      <td>67819</td>\n",
       "      <td>S3</td>\n",
       "      <td>NaN</td>\n",
       "      <td>1</td>\n",
       "      <td>...</td>\n",
       "      <td>1</td>\n",
       "      <td>0</td>\n",
       "      <td>1600.0</td>\n",
       "      <td>4</td>\n",
       "      <td>635.546935</td>\n",
       "      <td>0.000000</td>\n",
       "      <td>686</td>\n",
       "      <td>20</td>\n",
       "      <td>5</td>\n",
       "      <td>0</td>\n",
       "    </tr>\n",
       "    <tr>\n",
       "      <th>8</th>\n",
       "      <td>2004-04-17</td>\n",
       "      <td>NaT</td>\n",
       "      <td>1984-03-11</td>\n",
       "      <td>M</td>\n",
       "      <td>Maint</td>\n",
       "      <td>2</td>\n",
       "      <td>73113</td>\n",
       "      <td>S2</td>\n",
       "      <td>96.614939</td>\n",
       "      <td>0</td>\n",
       "      <td>...</td>\n",
       "      <td>8</td>\n",
       "      <td>2</td>\n",
       "      <td>2650.0</td>\n",
       "      <td>5</td>\n",
       "      <td>484.351736</td>\n",
       "      <td>-4880.287513</td>\n",
       "      <td>133</td>\n",
       "      <td>20</td>\n",
       "      <td>5</td>\n",
       "      <td>0</td>\n",
       "    </tr>\n",
       "    <tr>\n",
       "      <th>9</th>\n",
       "      <td>2015-06-18</td>\n",
       "      <td>NaT</td>\n",
       "      <td>1984-03-18</td>\n",
       "      <td>M</td>\n",
       "      <td>Consultant</td>\n",
       "      <td>1</td>\n",
       "      <td>31717</td>\n",
       "      <td>S2</td>\n",
       "      <td>92.023242</td>\n",
       "      <td>0</td>\n",
       "      <td>...</td>\n",
       "      <td>0</td>\n",
       "      <td>3</td>\n",
       "      <td>1000.0</td>\n",
       "      <td>4</td>\n",
       "      <td>49.569835</td>\n",
       "      <td>-19610.275365</td>\n",
       "      <td>58</td>\n",
       "      <td>0</td>\n",
       "      <td>7</td>\n",
       "      <td>0</td>\n",
       "    </tr>\n",
       "  </tbody>\n",
       "</table>\n",
       "<p>10 rows × 45 columns</p>\n",
       "</div>"
      ],
      "text/plain": [
       "  contract_start contract_end date_of_birth gender             profession  \\\n",
       "0     2010-10-24          NaT    1991-02-11      M  Professional Services   \n",
       "1     2010-04-30   2017-10-20    1986-04-06      W                    NaN   \n",
       "2     2013-05-02          NaT    1993-04-18      M         Transportation   \n",
       "3     2016-12-24          NaT    1994-07-29      W  Professional Services   \n",
       "4     2011-10-01          NaT    1990-10-28      W               Research   \n",
       "5     2004-09-24          NaT    1987-11-18      M            Real Estate   \n",
       "6     2015-12-20          NaT    1992-06-30      M            Engineering   \n",
       "7     2016-07-15          NaT    1995-07-20      W                    NaN   \n",
       "8     2004-04-17          NaT    1984-03-11      M                  Maint   \n",
       "9     2015-06-18          NaT    1984-03-18      M             Consultant   \n",
       "\n",
       "   size_household    ZIP segment  credit_rating  no_credit_rating_flag  ...  \\\n",
       "0               1  76829      S2      89.568518                      0  ...   \n",
       "1               1  35104      S2      94.270507                      0  ...   \n",
       "2               1  63450      S2      93.030947                      0  ...   \n",
       "3               2   9573      S3            NaN                      1  ...   \n",
       "4               1  66916      S2      90.457664                      0  ...   \n",
       "5               1  14728      S2            NaN                      1  ...   \n",
       "6               2  95666      S2            NaN                      1  ...   \n",
       "7               2  67819      S3            NaN                      1  ...   \n",
       "8               2  73113      S2      96.614939                      0  ...   \n",
       "9               1  31717      S2      92.023242                      0  ...   \n",
       "\n",
       "   online_tranactions_per_month  advisor_contacts_last12months  \\\n",
       "0                             0                              3   \n",
       "1                             8                              2   \n",
       "2                            12                              2   \n",
       "3                             0                              4   \n",
       "4                            18                              3   \n",
       "5                            22                              4   \n",
       "6                            10                              4   \n",
       "7                             1                              0   \n",
       "8                             8                              2   \n",
       "9                             0                              3   \n",
       "\n",
       "   customer_limit  cash_withdraws_per_month  cash_withdrawals_value  \\\n",
       "0          1000.0                         4              459.840940   \n",
       "1          1000.0                         7              476.334459   \n",
       "2          1000.0                         3              332.640202   \n",
       "3          1050.0                         4              378.324744   \n",
       "4          1000.0                         4              471.509299   \n",
       "5          1000.0                         3              478.179202   \n",
       "6          1850.0                         4              588.621471   \n",
       "7          1600.0                         4              635.546935   \n",
       "8          2650.0                         5              484.351736   \n",
       "9          1000.0                         4               49.569835   \n",
       "\n",
       "   consumer_credit_value  consumer_credit_maturity  account_fee  \\\n",
       "0          -24011.393552                       205           15   \n",
       "1           -5368.743068                       137           15   \n",
       "2           -9678.713419                       624           15   \n",
       "3          -12110.305916                      1263           10   \n",
       "4               0.000000                       521           10   \n",
       "5               0.000000                         0            0   \n",
       "6               0.000000                      1498           15   \n",
       "7               0.000000                       686           20   \n",
       "8           -4880.287513                       133           20   \n",
       "9          -19610.275365                        58            0   \n",
       "\n",
       "   number_of_refusals  churn  \n",
       "0                   6      0  \n",
       "1                   6      1  \n",
       "2                   4      0  \n",
       "3                   7      0  \n",
       "4                   3      0  \n",
       "5                  10      0  \n",
       "6                   0      0  \n",
       "7                   5      0  \n",
       "8                   5      0  \n",
       "9                   7      0  \n",
       "\n",
       "[10 rows x 45 columns]"
      ]
     },
     "execution_count": 15,
     "metadata": {},
     "output_type": "execute_result"
    }
   ],
   "source": [
    "data.head(10)"
   ]
  },
  {
   "cell_type": "code",
   "execution_count": 16,
   "metadata": {
    "id": "Wp_QuEQ-CzmQ"
   },
   "outputs": [
    {
     "data": {
      "text/plain": [
       "<Axes: >"
      ]
     },
     "execution_count": 16,
     "metadata": {},
     "output_type": "execute_result"
    },
    {
     "data": {
      "image/png": "[encoded data removed]",
      "text/plain": [
       "<Figure size 640x480 with 1 Axes>"
      ]
     },
     "metadata": {},
     "output_type": "display_data"
    }
   ],
   "source": [
    "data['last_balance'].hist()"
   ]
  },
  {
   "cell_type": "code",
   "execution_count": 17,
   "metadata": {
    "id": "3yQwx2ZQDzUW"
   },
   "outputs": [
    {
     "data": {
      "text/plain": [
       "array([<Axes: title={'center': '0'}>, <Axes: title={'center': '1'}>],\n",
       "      dtype=object)"
      ]
     },
     "execution_count": 17,
     "metadata": {},
     "output_type": "execute_result"
    },
    {
     "data": {
      "image/png": "[encoded data removed]",
      "text/plain": [
       "<Figure size 640x480 with 2 Axes>"
      ]
     },
     "metadata": {},
     "output_type": "display_data"
    }
   ],
   "source": [
    "data['last_balance'].hist(by=data['churn'])"
   ]
  },
  {
   "cell_type": "code",
   "execution_count": 18,
   "metadata": {
    "id": "i9HbrVwZDwu_"
   },
   "outputs": [
    {
     "data": {
      "image/png": "[encoded data removed]",
      "text/plain": [
       "<Figure size 640x480 with 1 Axes>"
      ]
     },
     "metadata": {},
     "output_type": "display_data"
    }
   ],
   "source": [
    "import matplotlib.pyplot as plt\n",
    "\n",
    "#define two Series with last_balance values by group churn_last_balance / no_churn_last_balance\n",
    "churn_last_balance = data.loc[data['churn'] == 1, 'last_balance']\n",
    "no_churn_last_balance = data.loc[data['churn'] == 0, 'last_balance']\n",
    "\n",
    "#add two histograms to one plot\n",
    "plt.hist(churn_last_balance, alpha=0.5, label='churn')\n",
    "plt.hist(no_churn_last_balance, alpha=0.5, label='no churn')\n",
    "\n",
    "#add plot title and axis labels\n",
    "plt.title('Last balance by churn')\n",
    "plt.xlabel('last balance')\n",
    "plt.ylabel('Frequency')\n",
    "\n",
    "#add legend\n",
    "plt.legend(title='Churn')\n",
    "\n",
    "#display plot\n",
    "plt.show()\n",
    "\n"
   ]
  },
  {
   "cell_type": "markdown",
   "metadata": {
    "id": "RTTqiqaFqmr9"
   },
   "source": [
    "# ... now you can think or imagine new features useful to predict churn\n",
    "# Feature Engineering"
   ]
  },
  {
   "cell_type": "markdown",
   "metadata": {
    "id": "qZ1N7JcYD70V"
   },
   "source": [
    "## Visualize NA\n",
    "\n",
    "[A library to visualize NA](https://www.geeksforgeeks.org/python-visualize-missing-values-nan-values-using-missingno-library/)"
   ]
  },
  {
   "cell_type": "code",
   "execution_count": 19,
   "metadata": {
    "id": "3HBZ_Z-KErFE"
   },
   "outputs": [
    {
     "ename": "ModuleNotFoundError",
     "evalue": "No module named 'missingno'",
     "output_type": "error",
     "traceback": [
      "\u001b[1;31m---------------------------------------------------------------------------\u001b[0m",
      "\u001b[1;31mModuleNotFoundError\u001b[0m                       Traceback (most recent call last)",
      "Cell \u001b[1;32mIn[19], line 1\u001b[0m\n\u001b[1;32m----> 1\u001b[0m \u001b[38;5;28;01mimport\u001b[39;00m \u001b[38;5;21;01mmissingno\u001b[39;00m \u001b[38;5;28;01mas\u001b[39;00m \u001b[38;5;21;01mmsno\u001b[39;00m\n\u001b[0;32m      3\u001b[0m \u001b[38;5;28;01mimport\u001b[39;00m \u001b[38;5;21;01mmatplotlib\u001b[39;00m\u001b[38;5;21;01m.\u001b[39;00m\u001b[38;5;21;01mpyplot\u001b[39;00m \u001b[38;5;28;01mas\u001b[39;00m \u001b[38;5;21;01mplt\u001b[39;00m\n\u001b[0;32m      4\u001b[0m get_ipython()\u001b[38;5;241m.\u001b[39mrun_line_magic(\u001b[38;5;124m'\u001b[39m\u001b[38;5;124mmatplotlib\u001b[39m\u001b[38;5;124m'\u001b[39m, \u001b[38;5;124m'\u001b[39m\u001b[38;5;124minline\u001b[39m\u001b[38;5;124m'\u001b[39m)\n",
      "\u001b[1;31mModuleNotFoundError\u001b[0m: No module named 'missingno'"
     ]
    }
   ],
   "source": [
    "import missingno as msno\n",
    "\n",
    "import matplotlib.pyplot as plt\n",
    "%matplotlib inline\n",
    "\n",
    "# Visualize missing values as a matrix\n",
    "msno.matrix(data)"
   ]
  },
  {
   "cell_type": "markdown",
   "metadata": {
    "id": "mN5V90JgQTUS"
   },
   "source": [
    "\n",
    "---\n",
    "\n",
    "---\n",
    "\n",
    "# Now you can try to train some ML models for Churn prediction\n",
    "\n"
   ]
  },
  {
   "cell_type": "markdown",
   "metadata": {
    "id": "y0GXJ2BBQpub"
   },
   "source": [
    "* The outcome will be churn true (1) or false (0)"
   ]
  },
  {
   "cell_type": "code",
   "execution_count": 20,
   "metadata": {
    "id": "PopoK_gNRNea"
   },
   "outputs": [],
   "source": [
    "import numpy as np\n",
    "\n",
    "y = np.array(data['churn'])"
   ]
  },
  {
   "cell_type": "markdown",
   "metadata": {
    "id": "ZWjtPcKGULmr"
   },
   "source": [
    "* ## select some features (or predictors) from columns"
   ]
  },
  {
   "cell_type": "code",
   "execution_count": 21,
   "metadata": {
    "id": "ocePY3FMUQQ6"
   },
   "outputs": [
    {
     "name": "stdout",
     "output_type": "stream",
     "text": [
      "Index(['contract_start', 'contract_end', 'date_of_birth', 'gender',\n",
      "       'profession', 'size_household', 'ZIP', 'segment', 'credit_rating',\n",
      "       'no_credit_rating_flag', 'main_account_flag', 'online_banking_flag',\n",
      "       'tele_banking_flag', 'creditcard_flag', 'insurance_life_flag',\n",
      "       'insurance_house_flag', 'insurance_car_flag', 'insurance_other_flag',\n",
      "       'mortgage_flag', 'portfolio_flag', 'last_balance',\n",
      "       'last_balance_minus_6_months', 'last_balance_minus_12_months',\n",
      "       'income_salary_per_year', 'income_deposits_per_year',\n",
      "       'income_securities_per_year', 'insurance_life_premium_per_month',\n",
      "       'insurance_house_premium_per_year', 'insurance_car_premium_per_year',\n",
      "       'mortgage_value', 'mortgage_interest', 'mortgage_downpayment',\n",
      "       'mortgage_dayuntilmaturity', 'mortgage_numbers',\n",
      "       'online_number_of_logins_per_month', 'online_tranactions_per_month',\n",
      "       'advisor_contacts_last12months', 'customer_limit',\n",
      "       'cash_withdraws_per_month', 'cash_withdrawals_value',\n",
      "       'consumer_credit_value', 'consumer_credit_maturity', 'account_fee',\n",
      "       'number_of_refusals', 'churn'],\n",
      "      dtype='object')\n"
     ]
    }
   ],
   "source": [
    "all_columns = data.columns\n",
    "print(all_columns)"
   ]
  },
  {
   "cell_type": "code",
   "execution_count": 22,
   "metadata": {
    "id": "OeO-oDWMUY5R"
   },
   "outputs": [
    {
     "data": {
      "text/plain": [
       "Index(['last_balance', 'last_balance_minus_6_months',\n",
       "       'last_balance_minus_12_months', 'income_salary_per_year',\n",
       "       'income_deposits_per_year', 'income_securities_per_year',\n",
       "       'insurance_life_premium_per_month', 'insurance_house_premium_per_year',\n",
       "       'insurance_car_premium_per_year', 'mortgage_value', 'mortgage_interest',\n",
       "       'mortgage_downpayment', 'mortgage_dayuntilmaturity', 'mortgage_numbers',\n",
       "       'online_number_of_logins_per_month', 'online_tranactions_per_month',\n",
       "       'advisor_contacts_last12months', 'customer_limit',\n",
       "       'cash_withdraws_per_month', 'cash_withdrawals_value',\n",
       "       'consumer_credit_value', 'consumer_credit_maturity', 'account_fee',\n",
       "       'number_of_refusals'],\n",
       "      dtype='object')"
      ]
     },
     "execution_count": 22,
     "metadata": {},
     "output_type": "execute_result"
    }
   ],
   "source": [
    "all_columns[20:44]"
   ]
  },
  {
   "cell_type": "code",
   "execution_count": 23,
   "metadata": {
    "id": "9AE4c-kQQoOs"
   },
   "outputs": [],
   "source": [
    "# Select features in X\n",
    "\n",
    "\n",
    "X = np.array(data[all_columns[20:44]])"
   ]
  },
  {
   "cell_type": "markdown",
   "metadata": {
    "id": "x-LUkumTVFqE"
   },
   "source": [
    "* ## Split train / test data"
   ]
  },
  {
   "cell_type": "code",
   "execution_count": 24,
   "metadata": {
    "id": "qvWyZM5n7qP5"
   },
   "outputs": [],
   "source": [
    "from sklearn.model_selection import train_test_split"
   ]
  },
  {
   "cell_type": "code",
   "execution_count": 25,
   "metadata": {
    "id": "A3peXVAp61TK"
   },
   "outputs": [],
   "source": [
    "X_train, X_test, y_train, y_test = train_test_split(X, y, test_size=0.15, random_state=0)"
   ]
  },
  {
   "cell_type": "code",
   "execution_count": 26,
   "metadata": {
    "id": "uMj5smQz7wVR"
   },
   "outputs": [
    {
     "name": "stdout",
     "output_type": "stream",
     "text": [
      "Training data cases:  85000  Test data cases:  15000\n"
     ]
    }
   ],
   "source": [
    "print('Training data cases: ', len(X_train), ' Test data cases: ', len(X_test))"
   ]
  },
  {
   "cell_type": "markdown",
   "metadata": {
    "id": "zgT-1MCsDFXj"
   },
   "source": [
    "* # We will start using <font color = magenta>**Logistic Regression**</font> in  [Scikit Learn Package](https://scikit-learn.org/stable/modules/generated/sklearn.linear_model.LogisticRegression.html)\n",
    "\n",
    "\n"
   ]
  },
  {
   "cell_type": "code",
   "execution_count": 27,
   "metadata": {
    "id": "c3rMRsp25FfJ"
   },
   "outputs": [],
   "source": [
    "from sklearn.linear_model import LogisticRegression"
   ]
  },
  {
   "cell_type": "markdown",
   "metadata": {
    "id": "Y1NHeYBg8Vw5"
   },
   "source": [
    "# Note the parameters (hiperparameters) you must consider"
   ]
  },
  {
   "cell_type": "code",
   "execution_count": 28,
   "metadata": {
    "id": "5xHtGoyj5wpz"
   },
   "outputs": [
    {
     "name": "stderr",
     "output_type": "stream",
     "text": [
      "D:\\ANACONDA\\Anaconda3\\Lib\\site-packages\\sklearn\\linear_model\\_logistic.py:460: ConvergenceWarning: lbfgs failed to converge (status=1):\n",
      "STOP: TOTAL NO. of ITERATIONS REACHED LIMIT.\n",
      "\n",
      "Increase the number of iterations (max_iter) or scale the data as shown in:\n",
      "    https://scikit-learn.org/stable/modules/preprocessing.html\n",
      "Please also refer to the documentation for alternative solver options:\n",
      "    https://scikit-learn.org/stable/modules/linear_model.html#logistic-regression\n",
      "  n_iter_i = _check_optimize_result(\n"
     ]
    },
    {
     "data": {
      "text/html": [
       "<style>#sk-container-id-1 {color: black;}#sk-container-id-1 pre{padding: 0;}#sk-container-id-1 div.sk-toggleable {background-color: white;}#sk-container-id-1 label.sk-toggleable__label {cursor: pointer;display: block;width: 100%;margin-bottom: 0;padding: 0.3em;box-sizing: border-box;text-align: center;}#sk-container-id-1 label.sk-toggleable__label-arrow:before {content: \"▸\";float: left;margin-right: 0.25em;color: #696969;}#sk-container-id-1 label.sk-toggleable__label-arrow:hover:before {color: black;}#sk-container-id-1 div.sk-estimator:hover label.sk-toggleable__label-arrow:before {color: black;}#sk-container-id-1 div.sk-toggleable__content {max-height: 0;max-width: 0;overflow: hidden;text-align: left;background-color: #f0f8ff;}#sk-container-id-1 div.sk-toggleable__content pre {margin: 0.2em;color: black;border-radius: 0.25em;background-color: #f0f8ff;}#sk-container-id-1 input.sk-toggleable__control:checked~div.sk-toggleable__content {max-height: 200px;max-width: 100%;overflow: auto;}#sk-container-id-1 input.sk-toggleable__control:checked~label.sk-toggleable__label-arrow:before {content: \"▾\";}#sk-container-id-1 div.sk-estimator input.sk-toggleable__control:checked~label.sk-toggleable__label {background-color: #d4ebff;}#sk-container-id-1 div.sk-label input.sk-toggleable__control:checked~label.sk-toggleable__label {background-color: #d4ebff;}#sk-container-id-1 input.sk-hidden--visually {border: 0;clip: rect(1px 1px 1px 1px);clip: rect(1px, 1px, 1px, 1px);height: 1px;margin: -1px;overflow: hidden;padding: 0;position: absolute;width: 1px;}#sk-container-id-1 div.sk-estimator {font-family: monospace;background-color: #f0f8ff;border: 1px dotted black;border-radius: 0.25em;box-sizing: border-box;margin-bottom: 0.5em;}#sk-container-id-1 div.sk-estimator:hover {background-color: #d4ebff;}#sk-container-id-1 div.sk-parallel-item::after {content: \"\";width: 100%;border-bottom: 1px solid gray;flex-grow: 1;}#sk-container-id-1 div.sk-label:hover label.sk-toggleable__label {background-color: #d4ebff;}#sk-container-id-1 div.sk-serial::before {content: \"\";position: absolute;border-left: 1px solid gray;box-sizing: border-box;top: 0;bottom: 0;left: 50%;z-index: 0;}#sk-container-id-1 div.sk-serial {display: flex;flex-direction: column;align-items: center;background-color: white;padding-right: 0.2em;padding-left: 0.2em;position: relative;}#sk-container-id-1 div.sk-item {position: relative;z-index: 1;}#sk-container-id-1 div.sk-parallel {display: flex;align-items: stretch;justify-content: center;background-color: white;position: relative;}#sk-container-id-1 div.sk-item::before, #sk-container-id-1 div.sk-parallel-item::before {content: \"\";position: absolute;border-left: 1px solid gray;box-sizing: border-box;top: 0;bottom: 0;left: 50%;z-index: -1;}#sk-container-id-1 div.sk-parallel-item {display: flex;flex-direction: column;z-index: 1;position: relative;background-color: white;}#sk-container-id-1 div.sk-parallel-item:first-child::after {align-self: flex-end;width: 50%;}#sk-container-id-1 div.sk-parallel-item:last-child::after {align-self: flex-start;width: 50%;}#sk-container-id-1 div.sk-parallel-item:only-child::after {width: 0;}#sk-container-id-1 div.sk-dashed-wrapped {border: 1px dashed gray;margin: 0 0.4em 0.5em 0.4em;box-sizing: border-box;padding-bottom: 0.4em;background-color: white;}#sk-container-id-1 div.sk-label label {font-family: monospace;font-weight: bold;display: inline-block;line-height: 1.2em;}#sk-container-id-1 div.sk-label-container {text-align: center;}#sk-container-id-1 div.sk-container {/* jupyter's `normalize.less` sets `[hidden] { display: none; }` but bootstrap.min.css set `[hidden] { display: none !important; }` so we also need the `!important` here to be able to override the default hidden behavior on the sphinx rendered scikit-learn.org. See: https://github.com/scikit-learn/scikit-learn/issues/21755 */display: inline-block !important;position: relative;}#sk-container-id-1 div.sk-text-repr-fallback {display: none;}</style><div id=\"sk-container-id-1\" class=\"sk-top-container\"><div class=\"sk-text-repr-fallback\"><pre>LogisticRegression()</pre><b>In a Jupyter environment, please rerun this cell to show the HTML representation or trust the notebook. <br />On GitHub, the HTML representation is unable to render, please try loading this page with nbviewer.org.</b></div><div class=\"sk-container\" hidden><div class=\"sk-item\"><div class=\"sk-estimator sk-toggleable\"><input class=\"sk-toggleable__control sk-hidden--visually\" id=\"sk-estimator-id-1\" type=\"checkbox\" checked><label for=\"sk-estimator-id-1\" class=\"sk-toggleable__label sk-toggleable__label-arrow\">LogisticRegression</label><div class=\"sk-toggleable__content\"><pre>LogisticRegression()</pre></div></div></div></div></div>"
      ],
      "text/plain": [
       "LogisticRegression()"
      ]
     },
     "execution_count": 28,
     "metadata": {},
     "output_type": "execute_result"
    }
   ],
   "source": [
    "model = LogisticRegression()\n",
    "model.fit(X_train, y_train)"
   ]
  },
  {
   "cell_type": "code",
   "execution_count": 29,
   "metadata": {
    "id": "VgsPP5dfW6m6"
   },
   "outputs": [],
   "source": [
    "from sklearn import preprocessing\n",
    "\n",
    "scaler = preprocessing.StandardScaler().fit(X_train)\n",
    "\n",
    "X_scaled = scaler.transform(X_train)"
   ]
  },
  {
   "cell_type": "code",
   "execution_count": 30,
   "metadata": {
    "id": "zq-BTD-JXRtj"
   },
   "outputs": [
    {
     "data": {
      "text/html": [
       "<style>#sk-container-id-2 {color: black;}#sk-container-id-2 pre{padding: 0;}#sk-container-id-2 div.sk-toggleable {background-color: white;}#sk-container-id-2 label.sk-toggleable__label {cursor: pointer;display: block;width: 100%;margin-bottom: 0;padding: 0.3em;box-sizing: border-box;text-align: center;}#sk-container-id-2 label.sk-toggleable__label-arrow:before {content: \"▸\";float: left;margin-right: 0.25em;color: #696969;}#sk-container-id-2 label.sk-toggleable__label-arrow:hover:before {color: black;}#sk-container-id-2 div.sk-estimator:hover label.sk-toggleable__label-arrow:before {color: black;}#sk-container-id-2 div.sk-toggleable__content {max-height: 0;max-width: 0;overflow: hidden;text-align: left;background-color: #f0f8ff;}#sk-container-id-2 div.sk-toggleable__content pre {margin: 0.2em;color: black;border-radius: 0.25em;background-color: #f0f8ff;}#sk-container-id-2 input.sk-toggleable__control:checked~div.sk-toggleable__content {max-height: 200px;max-width: 100%;overflow: auto;}#sk-container-id-2 input.sk-toggleable__control:checked~label.sk-toggleable__label-arrow:before {content: \"▾\";}#sk-container-id-2 div.sk-estimator input.sk-toggleable__control:checked~label.sk-toggleable__label {background-color: #d4ebff;}#sk-container-id-2 div.sk-label input.sk-toggleable__control:checked~label.sk-toggleable__label {background-color: #d4ebff;}#sk-container-id-2 input.sk-hidden--visually {border: 0;clip: rect(1px 1px 1px 1px);clip: rect(1px, 1px, 1px, 1px);height: 1px;margin: -1px;overflow: hidden;padding: 0;position: absolute;width: 1px;}#sk-container-id-2 div.sk-estimator {font-family: monospace;background-color: #f0f8ff;border: 1px dotted black;border-radius: 0.25em;box-sizing: border-box;margin-bottom: 0.5em;}#sk-container-id-2 div.sk-estimator:hover {background-color: #d4ebff;}#sk-container-id-2 div.sk-parallel-item::after {content: \"\";width: 100%;border-bottom: 1px solid gray;flex-grow: 1;}#sk-container-id-2 div.sk-label:hover label.sk-toggleable__label {background-color: #d4ebff;}#sk-container-id-2 div.sk-serial::before {content: \"\";position: absolute;border-left: 1px solid gray;box-sizing: border-box;top: 0;bottom: 0;left: 50%;z-index: 0;}#sk-container-id-2 div.sk-serial {display: flex;flex-direction: column;align-items: center;background-color: white;padding-right: 0.2em;padding-left: 0.2em;position: relative;}#sk-container-id-2 div.sk-item {position: relative;z-index: 1;}#sk-container-id-2 div.sk-parallel {display: flex;align-items: stretch;justify-content: center;background-color: white;position: relative;}#sk-container-id-2 div.sk-item::before, #sk-container-id-2 div.sk-parallel-item::before {content: \"\";position: absolute;border-left: 1px solid gray;box-sizing: border-box;top: 0;bottom: 0;left: 50%;z-index: -1;}#sk-container-id-2 div.sk-parallel-item {display: flex;flex-direction: column;z-index: 1;position: relative;background-color: white;}#sk-container-id-2 div.sk-parallel-item:first-child::after {align-self: flex-end;width: 50%;}#sk-container-id-2 div.sk-parallel-item:last-child::after {align-self: flex-start;width: 50%;}#sk-container-id-2 div.sk-parallel-item:only-child::after {width: 0;}#sk-container-id-2 div.sk-dashed-wrapped {border: 1px dashed gray;margin: 0 0.4em 0.5em 0.4em;box-sizing: border-box;padding-bottom: 0.4em;background-color: white;}#sk-container-id-2 div.sk-label label {font-family: monospace;font-weight: bold;display: inline-block;line-height: 1.2em;}#sk-container-id-2 div.sk-label-container {text-align: center;}#sk-container-id-2 div.sk-container {/* jupyter's `normalize.less` sets `[hidden] { display: none; }` but bootstrap.min.css set `[hidden] { display: none !important; }` so we also need the `!important` here to be able to override the default hidden behavior on the sphinx rendered scikit-learn.org. See: https://github.com/scikit-learn/scikit-learn/issues/21755 */display: inline-block !important;position: relative;}#sk-container-id-2 div.sk-text-repr-fallback {display: none;}</style><div id=\"sk-container-id-2\" class=\"sk-top-container\"><div class=\"sk-text-repr-fallback\"><pre>LogisticRegression()</pre><b>In a Jupyter environment, please rerun this cell to show the HTML representation or trust the notebook. <br />On GitHub, the HTML representation is unable to render, please try loading this page with nbviewer.org.</b></div><div class=\"sk-container\" hidden><div class=\"sk-item\"><div class=\"sk-estimator sk-toggleable\"><input class=\"sk-toggleable__control sk-hidden--visually\" id=\"sk-estimator-id-2\" type=\"checkbox\" checked><label for=\"sk-estimator-id-2\" class=\"sk-toggleable__label sk-toggleable__label-arrow\">LogisticRegression</label><div class=\"sk-toggleable__content\"><pre>LogisticRegression()</pre></div></div></div></div></div>"
      ],
      "text/plain": [
       "LogisticRegression()"
      ]
     },
     "execution_count": 30,
     "metadata": {},
     "output_type": "execute_result"
    }
   ],
   "source": [
    "model.fit(X_scaled, y_train)"
   ]
  },
  {
   "cell_type": "markdown",
   "metadata": {
    "id": "L8mNBi3T8w9h"
   },
   "source": [
    "# Now that the model is trained we can predict some cases:"
   ]
  },
  {
   "cell_type": "code",
   "execution_count": 31,
   "metadata": {
    "id": "IgwREkhp8-Jx"
   },
   "outputs": [],
   "source": [
    "X_test_scaled = scaler.transform(X_test)\n",
    "\n",
    "y_pred = model.predict(X_test_scaled)"
   ]
  },
  {
   "cell_type": "code",
   "execution_count": 32,
   "metadata": {
    "id": "qyktFkDd9Fjm"
   },
   "outputs": [
    {
     "data": {
      "text/plain": [
       "array([0, 0, 0, ..., 0, 0, 0])"
      ]
     },
     "execution_count": 32,
     "metadata": {},
     "output_type": "execute_result"
    }
   ],
   "source": [
    "y_pred"
   ]
  },
  {
   "cell_type": "markdown",
   "metadata": {
    "id": "9tfHTlOv9LrJ"
   },
   "source": [
    "# Compare Predictions with True values"
   ]
  },
  {
   "cell_type": "code",
   "execution_count": 33,
   "metadata": {
    "id": "uwwwtlaT9RlR"
   },
   "outputs": [
    {
     "data": {
      "text/plain": [
       "array([0, 0, 0, 0, 0, 0, 0, 0, 0, 0, 0, 0, 0, 0, 0, 0, 0, 0, 0, 0])"
      ]
     },
     "execution_count": 33,
     "metadata": {},
     "output_type": "execute_result"
    }
   ],
   "source": [
    "y_pred[0:20]"
   ]
  },
  {
   "cell_type": "code",
   "execution_count": 34,
   "metadata": {
    "id": "CAd-7ggQ9Xr5"
   },
   "outputs": [
    {
     "data": {
      "text/plain": [
       "array([0, 0, 0, 0, 0, 0, 0, 0, 0, 0, 0, 0, 0, 0, 0, 0, 0, 0, 0, 0])"
      ]
     },
     "execution_count": 34,
     "metadata": {},
     "output_type": "execute_result"
    }
   ],
   "source": [
    "y_test[0:20]"
   ]
  },
  {
   "cell_type": "markdown",
   "metadata": {
    "id": "82zWcvmK-Jqh"
   },
   "source": [
    "# You can also get the \"probabilities\" for each prediction for each class"
   ]
  },
  {
   "cell_type": "code",
   "execution_count": 35,
   "metadata": {
    "id": "dopvq2KY5_Qb"
   },
   "outputs": [],
   "source": [
    "y_pred_proba = model.predict_proba(X_test_scaled)"
   ]
  },
  {
   "cell_type": "code",
   "execution_count": 36,
   "metadata": {
    "id": "ABHWtqyF-Rwx"
   },
   "outputs": [
    {
     "data": {
      "text/plain": [
       "array([[0.97573512, 0.02426488],\n",
       "       [0.98929464, 0.01070536],\n",
       "       [0.97685509, 0.02314491],\n",
       "       [0.99535515, 0.00464485]])"
      ]
     },
     "execution_count": 36,
     "metadata": {},
     "output_type": "execute_result"
    }
   ],
   "source": [
    "# Two values: prob of \"0\" (Healthy) prob of \"1\" Severe (add up 1!)\n",
    "\n",
    "y_pred_proba[0:4]"
   ]
  },
  {
   "cell_type": "markdown",
   "metadata": {
    "id": "9y0FrVaZ-rqr"
   },
   "source": [
    "# Now you can explore using several evaluation metrics, confussion matrix, etc...\n",
    "\n",
    "https://scikit-learn.org/stable/modules/model_evaluation.html#classification-metrics"
   ]
  },
  {
   "cell_type": "code",
   "execution_count": 37,
   "metadata": {
    "id": "X0D_u3i6_khx"
   },
   "outputs": [],
   "source": [
    "from sklearn import metrics"
   ]
  },
  {
   "cell_type": "code",
   "execution_count": 38,
   "metadata": {
    "id": "rg5WAEg3-15Z"
   },
   "outputs": [
    {
     "name": "stdout",
     "output_type": "stream",
     "text": [
      "Accuracy: 0.9538\n",
      "Accuracy Score : 0.9538\n",
      "Precision Score : 0.7068965517241379\n",
      "Recall Score : 0.05718270571827057\n",
      "F1 Score : 0.10580645161290322\n"
     ]
    }
   ],
   "source": [
    "print(\"Accuracy:\", metrics.accuracy_score(y_test, y_pred))\n",
    "print('Accuracy Score : ' + str(metrics.accuracy_score(y_test,y_pred)))\n",
    "print('Precision Score : ' + str(metrics.precision_score(y_test,y_pred)))\n",
    "print('Recall Score : ' + str(metrics.recall_score(y_test,y_pred)))\n",
    "print('F1 Score : ' + str(metrics.f1_score(y_test,y_pred)))"
   ]
  },
  {
   "cell_type": "markdown",
   "metadata": {
    "id": "UFMMF26LET5j"
   },
   "source": [
    "* # The Confusion Matriz"
   ]
  },
  {
   "cell_type": "code",
   "execution_count": 39,
   "metadata": {
    "id": "-lMhp0kJ_e6o"
   },
   "outputs": [],
   "source": [
    "import matplotlib.pyplot as plt\n",
    "\n",
    "cnf_matrix = metrics.confusion_matrix(y_test, y_pred)"
   ]
  },
  {
   "cell_type": "code",
   "execution_count": 40,
   "metadata": {
    "id": "CjiDfTV4_mex"
   },
   "outputs": [
    {
     "data": {
      "text/plain": [
       "array([[14266,    17],\n",
       "       [  676,    41]], dtype=int64)"
      ]
     },
     "execution_count": 40,
     "metadata": {},
     "output_type": "execute_result"
    }
   ],
   "source": [
    "cnf_matrix"
   ]
  },
  {
   "cell_type": "code",
   "execution_count": 41,
   "metadata": {
    "id": "TKtqVA3E_UCx"
   },
   "outputs": [
    {
     "data": {
      "text/plain": [
       "Text(0.5, 23.52222222222222, 'Predicted')"
      ]
     },
     "execution_count": 41,
     "metadata": {},
     "output_type": "execute_result"
    },
    {
     "data": {
      "image/png": "[encoded data removed]",
      "text/plain": [
       "<Figure size 640x480 with 2 Axes>"
      ]
     },
     "metadata": {},
     "output_type": "display_data"
    }
   ],
   "source": [
    "import seaborn as sns\n",
    "\n",
    "labels = [0, 1]\n",
    "fig, ax = plt.subplots()\n",
    "tick_marks = np.arange(len(labels))\n",
    "plt.xticks(tick_marks, labels)\n",
    "plt.yticks(tick_marks, labels)\n",
    "# create heatmap\n",
    "sns.heatmap(pd.DataFrame(cnf_matrix), annot=True, cmap=\"YlGnBu\", fmt='g')\n",
    "ax.xaxis.set_label_position(\"top\")\n",
    "plt.title('Confusion matrix', y=1.1)\n",
    "plt.ylabel('True')\n",
    "plt.xlabel('Predicted')"
   ]
  },
  {
   "cell_type": "markdown",
   "metadata": {
    "id": "oAu2kF9e_3fD"
   },
   "source": [
    "# .... now you can try and compare other models.... use hyperparameyters selection etc...\n",
    "\n",
    "* ## You can follow scikit learn documentation and examples, as this:\n",
    "  https://scikit-learn.org/stable/auto_examples/exercises/plot_cv_diabetes.html#sphx-glr-auto-examples-exercises-plot-cv-diabetes-py"
   ]
  }
 ],
 "metadata": {
  "accelerator": "GPU",
  "colab": {
   "provenance": []
  },
  "kernelspec": {
   "display_name": "Python 3 (ipykernel)",
   "language": "python",
   "name": "python3"
  },
  "language_info": {
   "codemirror_mode": {
    "name": "ipython",
    "version": 3
   },
   "file_extension": ".py",
   "mimetype": "text/x-python",
   "name": "python",
   "nbconvert_exporter": "python",
   "pygments_lexer": "ipython3",
   "version": "3.11.0"
  }
 },
 "nbformat": 4,
 "nbformat_minor": 1
}
